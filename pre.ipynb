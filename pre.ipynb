{
 "cells": [
  {
   "cell_type": "markdown",
   "metadata": {},
   "source": [
    "### PE"
   ]
  },
  {
   "cell_type": "code",
   "execution_count": 4,
   "metadata": {},
   "outputs": [],
   "source": [
    "import copy\n",
    "\n",
    "def eada(Student,School,School_list,match,match_):\n",
    "    while len(School)>0:\n",
    "        settled_school=copy.deepcopy(list(School.keys()))\n",
    "        settled_student=[]\n",
    "        Student_=copy.deepcopy(Student)\n",
    "        \n",
    "        #DA\n",
    "        rejection=1\n",
    "        while rejection >0:\n",
    "            rejection=0\n",
    "            for k,v in match.items():\n",
    "                if v=='NA':\n",
    "                    sch_list=Student[k]\n",
    "                    School_list[sch_list.pop(0)].append(k)\n",
    "                    for k0,v0 in School_list.items():\n",
    "                        if len(v0)>1:\n",
    "                            rejection+=1\n",
    "                            if k0 in settled_school:\n",
    "                                settled_school.remove(k0)\n",
    "                        if v0!=[]:\n",
    "                            min_=School[k0].index(v0[0])\n",
    "                            for stu in v0:\n",
    "                                if School[k0].index(stu)<min_:\n",
    "                                    match[School[k0][min_]]='NA'\n",
    "                                    min_=School[k0].index(stu)\n",
    "                            School_list[k0]=[School[k0][min_]]\n",
    "            for k1,v1 in School_list.items():\n",
    "                if v1!=[]:\n",
    "                    match[v1[0]]=k1\n",
    "\n",
    "        for sch in settled_school:\n",
    "            match_[School_list[sch][0]]=sch\n",
    "\n",
    "        print('settled school: ',settled_school)\n",
    "\n",
    "\n",
    "        if settled_school!=[]:\n",
    "            for sch in settled_school:\n",
    "                settled_student.append(School_list[sch][0])\n",
    "                Student_.pop(School_list[sch][0])\n",
    "                School.pop(sch)\n",
    "                for k,v in Student_.items():\n",
    "                    if sch in v:\n",
    "                        v.remove(sch)\n",
    "                        Student_[k]=v\n",
    "                for k,v in School.items():\n",
    "                    if School_list[sch][0] in v:\n",
    "                        v.remove(School_list[sch][0])\n",
    "                        School[k]=v\n",
    "        print('settled student: ',settled_student)\n",
    "\n",
    "        Student=Student_\n",
    "        match={}\n",
    "        School_list={}\n",
    "        for k in Student.keys():\n",
    "            match[k]='NA'\n",
    "        for k in School.keys():\n",
    "            School_list[k]=[]\n",
    "\n",
    "        print('new student set: ',Student)\n",
    "        print('new school set: ',School)\n",
    "        print('\\n')\n",
    "\n",
    "    print(match_)\n",
    "    return match_"
   ]
  },
  {
   "cell_type": "code",
   "execution_count": 5,
   "metadata": {},
   "outputs": [
    {
     "name": "stdout",
     "output_type": "stream",
     "text": [
      "settled school:  ['s5']\n",
      "settled student:  ['i5']\n",
      "new student set:  {'i1': ['s2', 's1', 's3', 's4'], 'i2': ['s3', 's1', 's2', 's4'], 'i3': ['s3', 's4', 's2', 's1'], 'i4': ['s1', 's2', 's4', 's3']}\n",
      "new school set:  {'s1': ['i2', 'i1', 'i4', 'i3'], 's2': ['i3', 'i4', 'i1', 'i2'], 's3': ['i1', 'i2', 'i3', 'i4'], 's4': ['i4', 'i3', 'i1', 'i2']}\n",
      "\n",
      "\n",
      "settled school:  ['s1', 's2', 's4']\n",
      "settled student:  ['i4', 'i1', 'i3']\n",
      "new student set:  {'i2': ['s3']}\n",
      "new school set:  {'s3': ['i2']}\n",
      "\n",
      "\n",
      "settled school:  ['s3']\n",
      "settled student:  ['i2']\n",
      "new student set:  {}\n",
      "new school set:  {}\n",
      "\n",
      "\n",
      "{'i5': 's5', 'i4': 's1', 'i1': 's2', 'i3': 's4', 'i2': 's3'}\n"
     ]
    },
    {
     "data": {
      "text/plain": [
       "{'i5': 's5', 'i4': 's1', 'i1': 's2', 'i3': 's4', 'i2': 's3'}"
      ]
     },
     "execution_count": 5,
     "metadata": {},
     "output_type": "execute_result"
    }
   ],
   "source": [
    "Student={'i1':['s2','s1','s3','s4','s5'],\n",
    "         'i2':['s3','s1','s5','s2','s4'],\n",
    "         'i3':['s3','s4','s2','s1','s5'],\n",
    "        'i4':['s1','s2','s4','s3','s5'],\n",
    "        'i5':['s4','s1','s3','s2','s5']}\n",
    "\n",
    "School ={'s1':['i2','i1','i5','i4','i3'],\n",
    "         's2':['i3','i5','i4','i1','i2'],\n",
    "         's3':['i1','i5','i2','i3','i4'],\n",
    "        's4':['i4','i3','i5','i1','i2'],\n",
    "        's5':['i1','i2','i3','i4','i5']}\n",
    "\n",
    "School_list={'s1':[],'s2':[],'s3':[],'s4':[],'s5':[]}\n",
    "\n",
    "match={'i1':'NA','i2':'NA','i3':'NA','i4':'NA','i5':'NA'}\n",
    "\n",
    "match_={}\n",
    "\n",
    "eada(Student,School,School_list,match,match_)"
   ]
  },
  {
   "cell_type": "code",
   "execution_count": 6,
   "metadata": {
    "scrolled": true
   },
   "outputs": [
    {
     "name": "stdout",
     "output_type": "stream",
     "text": [
      "settled school:  ['s1']\n",
      "settled student:  ['i1']\n",
      "new student set:  {'i2': ['s3', 's2'], 'i3': ['s2', 's3']}\n",
      "new school set:  {'s2': ['i2', 'i3'], 's3': ['i3', 'i2']}\n",
      "\n",
      "\n",
      "settled school:  ['s2', 's3']\n",
      "settled student:  ['i3', 'i2']\n",
      "new student set:  {}\n",
      "new school set:  {}\n",
      "\n",
      "\n",
      "{'i1': 's1', 'i3': 's2', 'i2': 's3'}\n"
     ]
    },
    {
     "data": {
      "text/plain": [
       "{'i1': 's1', 'i3': 's2', 'i2': 's3'}"
      ]
     },
     "execution_count": 6,
     "metadata": {},
     "output_type": "execute_result"
    }
   ],
   "source": [
    "Student={'i1':['s2','s1','s3'],\n",
    "         'i2':['s3','s2','s1'],\n",
    "         'i3':['s2','s3','s1']}\n",
    "\n",
    "School ={'s1':['i1','i2','i3'],\n",
    "         's2':['i2','i1','i3'],\n",
    "         's3':['i3','i1','i2']}\n",
    "\n",
    "School_list={'s1':[],'s2':[],'s3':[]}\n",
    "\n",
    "match={'i1':'NA','i2':'NA','i3':'NA'}\n",
    "\n",
    "match_={}\n",
    "\n",
    "eada(Student,School,School_list,match,match_)"
   ]
  },
  {
   "cell_type": "code",
   "execution_count": null,
   "metadata": {},
   "outputs": [],
   "source": []
  }
 ],
 "metadata": {
  "kernelspec": {
   "display_name": "Python 3",
   "language": "python",
   "name": "python3"
  },
  "language_info": {
   "codemirror_mode": {
    "name": "ipython",
    "version": 3
   },
   "file_extension": ".py",
   "mimetype": "text/x-python",
   "name": "python",
   "nbconvert_exporter": "python",
   "pygments_lexer": "ipython3",
   "version": "3.8.5"
  }
 },
 "nbformat": 4,
 "nbformat_minor": 4
}
